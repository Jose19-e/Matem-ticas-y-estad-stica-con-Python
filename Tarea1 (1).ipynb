{
 "cells": [
  {
   "cell_type": "markdown",
   "id": "402bfa78",
   "metadata": {},
   "source": [
    "EJERCICIOS UNO"
   ]
  },
  {
   "cell_type": "code",
   "execution_count": 5,
   "id": "13f821e0",
   "metadata": {},
   "outputs": [],
   "source": [
    "import math "
   ]
  },
  {
   "cell_type": "code",
   "execution_count": 3,
   "id": "7e5fbc39",
   "metadata": {},
   "outputs": [
    {
     "name": "stdout",
     "output_type": "stream",
     "text": [
      "11\n"
     ]
    }
   ],
   "source": [
    "print(math.ceil(math.log2(2000)))\n"
   ]
  },
  {
   "cell_type": "markdown",
   "id": "9552b78c",
   "metadata": {},
   "source": [
    "EJERCICIO 2"
   ]
  },
  {
   "cell_type": "code",
   "execution_count": 5,
   "id": "736c3e74",
   "metadata": {},
   "outputs": [
    {
     "name": "stdout",
     "output_type": "stream",
     "text": [
      "1.0\n"
     ]
    }
   ],
   "source": [
    "print(math.log(2,2)+math.log(1,2))"
   ]
  },
  {
   "cell_type": "markdown",
   "id": "30374d35",
   "metadata": {},
   "source": [
    "EJERCICIO 3"
   ]
  },
  {
   "cell_type": "code",
   "execution_count": 11,
   "id": "9c299b9d",
   "metadata": {},
   "outputs": [
    {
     "name": "stdout",
     "output_type": "stream",
     "text": [
      "----------90------------\n",
      "6.123233995736766e-17\n",
      "1.0\n",
      "----------135------------\n",
      "-0.7071067811865475\n",
      "0.7071067811865476\n",
      "----------330------------\n",
      "0.8660254037844384\n",
      "-0.5000000000000004\n",
      "----------750------------\n",
      "0.8660254037844392\n",
      "0.49999999999999906\n"
     ]
    }
   ],
   "source": [
    "print(\"----------90------------\")\n",
    "radianes = (math.pi/180)*90\n",
    "print(math.cos(radianes))\n",
    "print(math.sin(radianes))\n",
    "print(\"----------135------------\")\n",
    "radianes = (math.pi/180)*135\n",
    "print(math.cos(radianes))\n",
    "print(math.sin(radianes))\n",
    "print(\"----------330------------\")\n",
    "radianes = (math.pi/180)*330\n",
    "print(math.cos(radianes))\n",
    "print(math.sin(radianes))\n",
    "print(\"----------750------------\")\n",
    "radianes = (math.pi/180)*750\n",
    "print(math.cos(radianes))\n",
    "print(math.sin(radianes))\n"
   ]
  },
  {
   "cell_type": "markdown",
   "id": "830cb29c",
   "metadata": {},
   "source": [
    "EJERCICIO 4 "
   ]
  },
  {
   "cell_type": "code",
   "execution_count": 14,
   "id": "42e7cd99",
   "metadata": {},
   "outputs": [
    {
     "name": "stdout",
     "output_type": "stream",
     "text": [
      "11232000\n"
     ]
    }
   ],
   "source": [
    "print(math.perm(26,3)*math.perm(10,3))"
   ]
  },
  {
   "cell_type": "code",
   "execution_count": 12,
   "id": "616d5de5",
   "metadata": {},
   "outputs": [
    {
     "name": "stdout",
     "output_type": "stream",
     "text": [
      "17576000.0\n"
     ]
    }
   ],
   "source": [
    "print(math.pow(26,3)*math.pow(10,3))"
   ]
  },
  {
   "cell_type": "markdown",
   "id": "6ab3a4b1",
   "metadata": {},
   "source": [
    "EJERCICIO 5"
   ]
  },
  {
   "cell_type": "code",
   "execution_count": 17,
   "id": "b81400d7",
   "metadata": {},
   "outputs": [
    {
     "name": "stdout",
     "output_type": "stream",
     "text": [
      "10\n"
     ]
    }
   ],
   "source": [
    "print(math.comb(5,3))"
   ]
  }
 ],
 "metadata": {
  "kernelspec": {
   "display_name": "Python 3 (ipykernel)",
   "language": "python",
   "name": "python3"
  },
  "language_info": {
   "codemirror_mode": {
    "name": "ipython",
    "version": 3
   },
   "file_extension": ".py",
   "mimetype": "text/x-python",
   "name": "python",
   "nbconvert_exporter": "python",
   "pygments_lexer": "ipython3",
   "version": "3.10.9"
  }
 },
 "nbformat": 4,
 "nbformat_minor": 5
}
