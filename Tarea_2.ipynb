{
 "cells": [
  {
   "cell_type": "code",
   "execution_count": 1,
   "id": "ddb89731",
   "metadata": {},
   "outputs": [],
   "source": [
    "import numpy as np"
   ]
  },
  {
   "cell_type": "markdown",
   "id": "9306eac6",
   "metadata": {},
   "source": [
    "EJERCICIO 1"
   ]
  },
  {
   "cell_type": "code",
   "execution_count": 30,
   "id": "8929ff19",
   "metadata": {},
   "outputs": [
    {
     "name": "stdout",
     "output_type": "stream",
     "text": [
      "Resultado de A + O:\n",
      "[[ 1.  4.]\n",
      " [-1.  3.]\n",
      " [ 2. -9.]]\n",
      "----------------\n",
      "Resultado de A - O:\n",
      "[[ 1.  4.]\n",
      " [-1.  3.]\n",
      " [ 2. -9.]]\n",
      "----------------\n",
      "Comprobación (A + O = A − O = A):\n",
      "True\n",
      "----------------\n",
      "Resultado de A - A:\n",
      "[[0 0]\n",
      " [0 0]\n",
      " [0 0]]\n"
     ]
    }
   ],
   "source": [
    "#a. A + O = A − O = A\n",
    "A = np.array([[1,4],[-1,3],[2,-9]])\n",
    "cero = np.zeros((3,2))\n",
    "r = A + cero\n",
    "r2 = A - cero\n",
    "print(\"Resultado de A + O:\")\n",
    "print(r)\n",
    "print(\"----------------\")\n",
    "print(\"Resultado de A - O:\")\n",
    "print(r2)\n",
    "print(\"----------------\")\n",
    "print(\"Comprobación (A + O = A − O = A):\")\n",
    "print(np.array_equal(r, A) and np.array_equal(r2, A))\n",
    "\n",
    "#b. A − A = O\n",
    "print(\"----------------\")\n",
    "print(\"Resultado de A - A:\")\n",
    "r3 = A - A\n",
    "print(r3)"
   ]
  },
  {
   "cell_type": "markdown",
   "id": "8dcdd563",
   "metadata": {},
   "source": [
    "EJERCICIO 2"
   ]
  },
  {
   "cell_type": "code",
   "execution_count": 47,
   "id": "406c70f4",
   "metadata": {},
   "outputs": [
    {
     "name": "stdout",
     "output_type": "stream",
     "text": [
      "------------\n",
      "A+3B\n",
      " (A + 3 * B ) no es posible realizar la suma de diferentes dimensiones\n",
      "------------\n",
      "A*B\n",
      "[[12 -6  3]\n",
      " [-4 12 14]]\n",
      "------------\n",
      "A³\n",
      "Resultado de A^3:\n",
      "[[ 27   0]\n",
      " [-49 125]]\n",
      "------------\n",
      "B²\n",
      "Resultado de B^2:\n",
      "no es posible elevar a la matriz de diferentes dimensiones (2X3)\n",
      "------------\n",
      "(5A)B\n",
      "Resultado de (5A)B:\n",
      "[[ 60 -30  15]\n",
      " [-20  60  70]]\n"
     ]
    }
   ],
   "source": [
    "print(\"------------\")\n",
    "print(\"A+3B\")\n",
    "A = np.array([[3, 0], [-1, 5]])\n",
    "B = np.array([[4, -2, 1], [0, 2, 3]])\n",
    "#r = A + 3 * B \n",
    "print(\" (A + 3 * B ) no es posible realizar la suma de diferentes dimensiones\")\n",
    "print(\"------------\")\n",
    "print(\"A*B\")\n",
    "r = A@B\n",
    "print(r)\n",
    "print(\"------------\")\n",
    "print(\"A³\")\n",
    "r = np.linalg.matrix_power(A, 3)\n",
    "print(\"Resultado de A^3:\")\n",
    "print(r)\n",
    "print(\"------------\")\n",
    "print(\"B²\")\n",
    "#r = np.linalg.matrix_power(B, 2)\n",
    "print(\"Resultado de B^2:\")\n",
    "print(\"no es posible elevar a la matriz de diferentes dimensiones (2X3)\")\n",
    "print(\"------------\")\n",
    "print(\"(5A)B\")\n",
    "r = (5*A)@B\n",
    "print(\"Resultado de (5A)B:\")\n",
    "print(r)\n",
    "\n"
   ]
  },
  {
   "cell_type": "markdown",
   "id": "16f7f940",
   "metadata": {},
   "source": [
    "EJERCICIO 3"
   ]
  },
  {
   "cell_type": "code",
   "execution_count": 51,
   "id": "e874d356",
   "metadata": {},
   "outputs": [
    {
     "name": "stdout",
     "output_type": "stream",
     "text": [
      "[[30 15  4]\n",
      " [25 18  8]]\n",
      "[[1.2 1.3]\n",
      " [2.2 2.1]\n",
      " [4.5 4.6]]\n",
      "[[ 87.   88.9]\n",
      " [105.6 107.1]]\n",
      "Tienda 1 192.6\n",
      "Tienda 2 196.0\n"
     ]
    }
   ],
   "source": [
    "restaurantes = np.array([[30,15,4],[25,18,8]])\n",
    "print(restaurantes)\n",
    "tiendas = np.array([[1.2,2.2,4.5],[1.3,2.1,4.6]])\n",
    "print(tiendas.T)\n",
    "costoPorTienda=restaurantes@tiendas.T\n",
    "print(costoPorTienda)\n",
    "print(\"Tienda 1\", (costoPorTienda[0,0]+costoPorTienda[1,0]))\n",
    "print(\"Tienda 2\", (costoPorTienda[0,1]+costoPorTienda[1,1]))"
   ]
  },
  {
   "cell_type": "markdown",
   "id": "c811035b",
   "metadata": {},
   "source": [
    "EJERCICIO 4"
   ]
  },
  {
   "cell_type": "code",
   "execution_count": 76,
   "id": "f5a2cf34",
   "metadata": {},
   "outputs": [
    {
     "name": "stdout",
     "output_type": "stream",
     "text": [
      "[[200 150 100]\n",
      " [ 75 100 125]]\n",
      "[[1.5  1.75]\n",
      " [1.   1.5 ]\n",
      " [2.   1.  ]]\n",
      "[[650.   675.  ]\n",
      " [462.5  406.25]]\n",
      "Por camión 1112.5\n",
      "Por Tren 1081.25\n",
      "¡MEJOR OPCION POR TREN! 1081.25\n"
     ]
    }
   ],
   "source": [
    "productos = np.array([[200,75],[150,100],[100,125]])\n",
    "print(productos.T)\n",
    "costos = np.array([[1.5,1,2],[1.75,1.50,1]])\n",
    "print(costos.T)\n",
    "Rcostos = productos.T@costos.T\n",
    "print(Rcostos)\n",
    "print(\"Por camión\", (Rcostos[0,0]+Rcostos[1,0]))\n",
    "print(\"Por Tren\", (Rcostos[0,1]+Rcostos[1,1]))\n",
    "print(\"¡MEJOR OPCION POR TREN!\",Rcostos[0,1]+Rcostos[1,1])"
   ]
  },
  {
   "cell_type": "markdown",
   "id": "18e5d856",
   "metadata": {},
   "source": [
    "EJERCICIO 5"
   ]
  },
  {
   "cell_type": "code",
   "execution_count": 86,
   "id": "9fd40566",
   "metadata": {},
   "outputs": [
    {
     "name": "stdout",
     "output_type": "stream",
     "text": [
      "\n",
      "3x + 2y = 6\n",
      "6x + 4y = -9\n",
      "     ↓\n",
      "\n",
      "Es indetrminada\n",
      "\n",
      "x + y = 3\n",
      "x − 4y = 1\n",
      "     ↓\n",
      "\n",
      "Solución:\n",
      "x = 2.6\n",
      "y = 0.4\n",
      "\n",
      "2x − y + 2z = 3\n",
      "2x + 3y − z = 0\n",
      "x + 2y + 2z = −12\n",
      "     ↓\n",
      "\n",
      "Solución:\n",
      "x = 3.6521739130434785\n",
      "y = -3.782608695652174\n",
      "z = -4.043478260869565\n"
     ]
    }
   ],
   "source": [
    "print('''\n",
    "3x + 2y = 6\n",
    "6x + 4y = -9\n",
    "     ↓\n",
    "''')\n",
    "A = np.array([[3, 2], [6, 4]])\n",
    "B = np.array([6, -9])\n",
    "# Resolver el sistema \n",
    "#sol = np.linalg.solve(A, B)\n",
    "print(\"Es indetrminada\")\n",
    "\n",
    "print(\"\"\"\n",
    "x + y = 3\n",
    "x − 4y = 1\n",
    "     ↓\n",
    "\"\"\")\n",
    "A = np.array([[1, 1], [1, -4]])\n",
    "B = np.array([3, 1])\n",
    "# Resolver \n",
    "sol = np.linalg.solve(A, B)\n",
    "print(\"Solución:\")\n",
    "print(\"x =\", sol[0])\n",
    "print(\"y =\", sol[1])\n",
    "\n",
    "print(\"\"\"\n",
    "2x − y + 2z = 3\n",
    "2x + 3y − z = 0\n",
    "x + 2y + 2z = −12\n",
    "     ↓\n",
    "\"\"\")\n",
    "A = np.array([[2, -1, 2], [2, 3, -1], [1, 2, 2]])\n",
    "B = np.array([3, 0, -12])\n",
    "# Resolver\n",
    "sol = np.linalg.solve(A, B)\n",
    "print(\"Solución:\")\n",
    "print(\"x =\", sol[0])\n",
    "print(\"y =\", sol[1])\n",
    "print(\"z =\", sol[2])\n",
    "\n"
   ]
  }
 ],
 "metadata": {
  "kernelspec": {
   "display_name": "Python 3 (ipykernel)",
   "language": "python",
   "name": "python3"
  },
  "language_info": {
   "codemirror_mode": {
    "name": "ipython",
    "version": 3
   },
   "file_extension": ".py",
   "mimetype": "text/x-python",
   "name": "python",
   "nbconvert_exporter": "python",
   "pygments_lexer": "ipython3",
   "version": "3.10.9"
  }
 },
 "nbformat": 4,
 "nbformat_minor": 5
}
